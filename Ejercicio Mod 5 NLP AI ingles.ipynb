{
 "cells": [
  {
   "cell_type": "code",
   "execution_count": 8,
   "id": "8a86c225-553d-459c-a524-bf061cefbbb7",
   "metadata": {
    "tags": []
   },
   "outputs": [
    {
     "name": "stdout",
     "output_type": "stream",
     "text": [
      "Requirement already satisfied: nltk in c:\\users\\victor.hernandezm.infotec\\appdata\\roaming\\python\\python39\\site-packages (3.8.1)\n",
      "Requirement already satisfied: tqdm in c:\\users\\victor.hernandezm.infotec\\appdata\\roaming\\python\\python39\\site-packages (from nltk) (4.66.1)\n",
      "Requirement already satisfied: click in c:\\users\\victor.hernandezm.infotec\\appdata\\roaming\\python\\python39\\site-packages (from nltk) (8.1.7)\n",
      "Requirement already satisfied: regex>=2021.8.3 in c:\\users\\victor.hernandezm.infotec\\appdata\\roaming\\python\\python39\\site-packages (from nltk) (2023.10.3)\n",
      "Requirement already satisfied: joblib in c:\\users\\victor.hernandezm.infotec\\appdata\\roaming\\python\\python39\\site-packages (from nltk) (1.3.2)\n",
      "Requirement already satisfied: colorama in c:\\users\\victor.hernandezm\\anaconda3\\lib\\site-packages (from click->nltk) (0.4.4)\n",
      "Note: you may need to restart the kernel to use updated packages.\n"
     ]
    }
   ],
   "source": [
    "pip install --user nltk"
   ]
  },
  {
   "cell_type": "code",
   "execution_count": 9,
   "id": "01764f9b-fb8d-426b-b5ba-a1f27e334c00",
   "metadata": {
    "tags": []
   },
   "outputs": [],
   "source": [
    "import nltk"
   ]
  },
  {
   "cell_type": "code",
   "execution_count": 10,
   "id": "510b9aba-885a-4589-8620-0da2d26c3588",
   "metadata": {
    "tags": []
   },
   "outputs": [
    {
     "name": "stderr",
     "output_type": "stream",
     "text": [
      "[nltk_data] Downloading package vader_lexicon to C:\\Users\\victor.herna\n",
      "[nltk_data]     ndezm.INFOTEC\\AppData\\Roaming\\nltk_data...\n",
      "[nltk_data]   Package vader_lexicon is already up-to-date!\n",
      "[nltk_data] Downloading package punkt to C:\\Users\\victor.hernandezm.IN\n",
      "[nltk_data]     FOTEC\\AppData\\Roaming\\nltk_data...\n",
      "[nltk_data]   Package punkt is already up-to-date!\n"
     ]
    },
    {
     "data": {
      "text/plain": [
       "True"
      ]
     },
     "execution_count": 10,
     "metadata": {},
     "output_type": "execute_result"
    }
   ],
   "source": [
    "nltk.download('vader_lexicon')\n",
    "nltk.download('punkt')"
   ]
  },
  {
   "cell_type": "code",
   "execution_count": 11,
   "id": "4209a280-f037-40fe-aaad-c8324edf1f2b",
   "metadata": {
    "tags": []
   },
   "outputs": [],
   "source": [
    "import nltk\n",
    "tokenizer = nltk.data.load('tokenizers/punkt/english.pickle')\n",
    "sentences = tokenizer.tokenize(\"I am sure that is the reason why education is so important. When you are truly interested in something, you never stop learning. Later, share the share the well-learned knowledge with others!\")"
   ]
  },
  {
   "cell_type": "code",
   "execution_count": 12,
   "id": "c302c71a-fe4a-40e7-bb4d-05e0470b91dd",
   "metadata": {
    "tags": []
   },
   "outputs": [],
   "source": [
    "from nltk.sentiment.vader import SentimentIntensityAnalyzer\n",
    "from nltk import sentiment\n",
    "from nltk import word_tokenize"
   ]
  },
  {
   "cell_type": "code",
   "execution_count": 13,
   "id": "6636e57d-3927-48d5-b5d1-ddbff8376da9",
   "metadata": {
    "tags": []
   },
   "outputs": [],
   "source": [
    "analizador = SentimentIntensityAnalyzer()"
   ]
  },
  {
   "cell_type": "code",
   "execution_count": 14,
   "id": "92f15136-101a-497b-9a35-b837b92610b2",
   "metadata": {
    "tags": []
   },
   "outputs": [
    {
     "name": "stdout",
     "output_type": "stream",
     "text": [
      "BEGIN...\n",
      "\n",
      "I am sure that is the reason why education is so important.\n",
      "neg :  0.0\n",
      "\n",
      "neu :  0.659\n",
      "\n",
      "pos :  0.341\n",
      "\n",
      "compound :  0.567\n",
      "\n",
      "When you are truly interested in something, you never stop learning.\n",
      "neg :  0.0\n",
      "\n",
      "neu :  0.517\n",
      "\n",
      "pos :  0.483\n",
      "\n",
      "compound :  0.7571\n",
      "\n",
      "Later, share the share the well-learned knowledge with others!\n",
      "neg :  0.0\n",
      "\n",
      "neu :  0.599\n",
      "\n",
      "pos :  0.401\n",
      "\n",
      "compound :  0.5707\n",
      "\n",
      "...I'am done.\n",
      "\n"
     ]
    }
   ],
   "source": [
    "print(\"BEGIN...\\n\")\n",
    "for sentence in sentences:\n",
    "    print(sentence)\n",
    "    scores = analizador.polarity_scores(sentence)\n",
    "    for key in scores:\n",
    "        print(key, ': ', scores[key])\n",
    "        print()\n",
    "print(\"...I'am done.\\n\")"
   ]
  },
  {
   "cell_type": "code",
   "execution_count": null,
   "id": "43f46612-187d-4faa-8f7a-80d54f4da7e4",
   "metadata": {},
   "outputs": [],
   "source": []
  }
 ],
 "metadata": {
  "kernelspec": {
   "display_name": "Python 3 (ipykernel)",
   "language": "python",
   "name": "python3"
  },
  "language_info": {
   "codemirror_mode": {
    "name": "ipython",
    "version": 3
   },
   "file_extension": ".py",
   "mimetype": "text/x-python",
   "name": "python",
   "nbconvert_exporter": "python",
   "pygments_lexer": "ipython3",
   "version": "3.9.12"
  }
 },
 "nbformat": 4,
 "nbformat_minor": 5
}
