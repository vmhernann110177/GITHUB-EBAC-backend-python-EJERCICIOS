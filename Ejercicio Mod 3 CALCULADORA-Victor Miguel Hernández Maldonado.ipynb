{
 "cells": [
  {
   "cell_type": "markdown",
   "id": "a6adf0da",
   "metadata": {},
   "source": [
    "### ------------------------------------------------------------------\n",
    "# Calculadora sencilla.\n",
    "### Esta calculadora hace la siguentes operaciones:\n",
    "- Suma (+)\n",
    "- Resta (-)\n",
    "- Multiplicación (*) \n",
    "- División (/) \n",
    "- Potencia (**)\n",
    "- En las bases:\n",
    "- - 'H': 'Hexadecimal'\n",
    "- - 'D': 'Decimal' \n",
    "- - 'O': 'Octal'\n",
    "- - 'B': 'Binaria'\n",
    "\n",
    "### Tendrás que seguir el flujo de trabajo que este programa te propone. \n",
    "#### Conforme se te vaya pidiendo elije alguna de las opciones, que en su momento, te dará la funcion Input."
   ]
  },
  {
   "cell_type": "markdown",
   "id": "a31234eb",
   "metadata": {},
   "source": [
    "### ------------------------------------------------------------------\n",
    "## Conceptos y diseño de la calculadora.\n",
    "### En esta seccion se realiza el diseño conceptual de la calculadora, es importante mencionar que ÚNICAMENTE se tomaron en cuenta los conceptos aprendidos en las lecciones. \n",
    "### Flujo de trabajo:\n",
    "- Define dos diccionarios: \n",
    "- - Uno para las bases de los calculos  \n",
    "- - Y El otro para operadores.\n",
    "- Con un 'input()' pide que se declare la base del cálculo con su inicial en mayuscula:\n",
    "- - 'H': 'Hexadecimal', 'D': 'Decimal', 'O': 'Octal', 'B': 'Binaria' \n",
    "- - Guardala y la muestras en pantalla.\n",
    "- Con un input() pide que se declare la operación a realizar CON SU SIMBOLO:\n",
    " - '+': 'Suma', '-': 'Resta', '*': 'Multiplicación', '/': 'División', '**': 'Potencia' \n",
    "- - Guardala y la muestras en pantalla.\n",
    "- Ya se tiene argumentos suficientes para saber en que base y que operación se realizará.\n",
    "- Con un input() mas pide al usuario un par de valores, ya sea en base 10, o con los digitos característivos de su base. \n",
    "- Haz la operación y muestra el resultado. (Esta ultima sección es la parte fuerte del programa).\n",
    "\n",
    "### ------------------------------------------------------------------"
   ]
  },
  {
   "cell_type": "code",
   "execution_count": 1,
   "id": "603e53e3",
   "metadata": {
    "scrolled": true
   },
   "outputs": [
    {
     "name": "stdout",
     "output_type": "stream",
     "text": [
      "{'H': 'Hexadecimal', 'D': 'Decimal', 'O': 'Octal', 'B': 'Binaria'}\n",
      "  my_bases_dictionary variable type is:   <class 'dict'>\n",
      "Operator you can use are {'+': 'Suma', '-': 'Resta', '*': 'Multiplicación', '/': 'División', '**': 'Potencia'}\n",
      "  my_operators_dictionary variable type is:  <class 'dict'>\n"
     ]
    }
   ],
   "source": [
    "#  Definición de bases y operadores con dos diccionarios. \n",
    "# Bases\n",
    "my_bases_dictionary = {\"H\":\"Hexadecimal\", \"D\":\"Decimal\", \"O\":\"Octal\", \"B\":\"Binaria\"}\n",
    "print(my_bases_dictionary)\n",
    "print(\"  my_bases_dictionary variable type is:  \", type(my_bases_dictionary))\n",
    "# Operadores\n",
    "my_operators_dictionary = {\"+\":\"Suma\", \"-\":\"Resta\", \"*\":\"Multiplicación\", \"/\":\"División\" , \"**\":\"Potencia\"}\n",
    "print(\"Operator you can use are\", my_operators_dictionary)\n",
    "print(\"  my_operators_dictionary variable type is: \", type(my_operators_dictionary))"
   ]
  },
  {
   "cell_type": "code",
   "execution_count": 2,
   "id": "608252c7",
   "metadata": {
    "scrolled": true
   },
   "outputs": [
    {
     "name": "stdout",
     "output_type": "stream",
     "text": [
      "Escribe UNICAMENTE la Letra inicial -EN MAYUSCULA- la base de tu operación: H, D, O, B : O\n",
      "Haz elegido que la base de tu operación sea:  Octal\n"
     ]
    }
   ],
   "source": [
    "my_Base_symbol = input(\"Escribe UNICAMENTE la Letra inicial -EN MAYUSCULA- la base de tu operación: H, D, O, B : \")\n",
    "print(\"Haz elegido que la base de tu operación sea: \", my_bases_dictionary[my_Base_symbol])\n"
   ]
  },
  {
   "cell_type": "code",
   "execution_count": 3,
   "id": "ef9ecfcb",
   "metadata": {},
   "outputs": [
    {
     "name": "stdout",
     "output_type": "stream",
     "text": [
      "Escribe UNICAMENTE el símbolo la operación que deseas hacer: +, -, *, /, ** : +\n",
      "Haz elegido que la operacion sea de:  Suma\n"
     ]
    }
   ],
   "source": [
    "my_operation_symbol = input(\"Escribe UNICAMENTE el símbolo la operación que deseas hacer: +, -, *, /, ** : \")\n",
    "print(\"Haz elegido que la operacion sea de: \", my_operators_dictionary[my_operation_symbol])"
   ]
  },
  {
   "cell_type": "code",
   "execution_count": 4,
   "id": "d92d5739",
   "metadata": {
    "scrolled": true
   },
   "outputs": [
    {
     "name": "stdout",
     "output_type": "stream",
     "text": [
      "Elegiste la Base:  O ` Octal ´\n",
      "Elegiste la Operation:  + ` Suma ´\n"
     ]
    }
   ],
   "source": [
    "#  Solo por ver, me cercioro que la variable global (my_Base_symbol) permanece intacta.\n",
    "print(\"Elegiste la Base: \",my_Base_symbol,\"`\", my_bases_dictionary[my_Base_symbol],\"´\")\n",
    "\n",
    "\n",
    "#  y tambien me cercioro que la variable global (my_operation_symbol) permanece intacta.\n",
    "print(\"Elegiste la Operation: \",my_operation_symbol,\"`\",my_operators_dictionary[my_operation_symbol],\"´\")\n"
   ]
  },
  {
   "cell_type": "code",
   "execution_count": 5,
   "id": "6c7a6b79",
   "metadata": {
    "scrolled": false
   },
   "outputs": [
    {
     "name": "stdout",
     "output_type": "stream",
     "text": [
      "\n",
      "\n",
      "ELEGISTE BASE OCTAL. \n",
      "TIENES TRES FORMAS DE ESTABLECER TU OPERACION:            \n",
      "1. PUEDES PONER VALORES, EN BASE DECIMAL, SOLO DIGITOS DEL 0 AL 7  INCLUSO VALORES NEGATIVOS DE VARIOS DIGITOS (-0o77)            \n",
      "2. PUEDES SUGERIR LOS VALORES EN SU FORMA OCTAL: NUMEROS ENTEROS CON DIGITOS DEL 0 AL 7, p.ej. 0o1, 0o7, -0o7, -0o77           \n",
      "3. PUEDES PROPONER TUS VALORES DE FORMA HIBRIDA: p.ej. 70, 0o56             \n",
      "*OJO* IMPORTANTE: NO PUEDES PONER VALORES DE TIPO 'FLOAT'\n",
      "\n",
      "\n"
     ]
    }
   ],
   "source": [
    "#  LANZO UN MENSAJE QUE ACLARE la forma correcta de proponer valores que se podrán introducir según \n",
    "## la BASE dada de la operación.\n",
    "print(\"\\n\")\n",
    "if my_Base_symbol == 'H':\n",
    "    print(\"ELEGISTE BASE HEXADECIMAL. \\nTIENES TRES FORMAS DE ESTABLECER TU OPERACION: \\\n",
    "           \\n1. PUEDES PONER VALORES, EN BASE DECIMAL, CON DIGITOS DEL 0 AL 9, NO SE PERMITEN NUMEROS NEGATIIVOS. \\\n",
    "           \\n2. PUEDES SUGERIR LOS VALORES EN SU FORMA HEXADECIMAL: NUMEROS ENTEROS CON DIGITOS DEL 0 AL 9 Y \\\n",
    "           \\n   LAS LETRAS: A, B, C, D, E , F: p.eJ. 0xA 0x99 \\\n",
    "           \\n3. PUEDES PROPONER TUS VALORES DE FORMA HIBRIDA: p.ej. 10 0x99  \\\n",
    "           \\n*OJO* IMPORTANTE: NO PUEDES PONER VALORES DE TIPO 'FLOAT'\" )\n",
    "if my_Base_symbol == 'D':\n",
    "    print(\"ELEGISTE BASE DECIMAL, \\nTIENES VARIAS FORMAS DE ESTABLECER TU OPERACION: \\\n",
    "            \\n1. PUEDES USAR NÚMEROS ENTEROS CON DIGITOS DEL 0 AL 9, \\\n",
    "            \\n2. TAMBIEN PUEDES USAR NUMERODS NEGATIVOS \\\n",
    "            \\n3. CUALQUIER NÚMERO DE TIPO FLOAT. \\\n",
    "            \\n4. PUEDES PROPONER TUS VALORES DE FORMA HIBRIDA, ENTERO, NEGATIVO, FLOAT\")\n",
    "if my_Base_symbol == 'O':\n",
    "    print(\"ELEGISTE BASE OCTAL. \\nTIENES TRES FORMAS DE ESTABLECER TU OPERACION: \\\n",
    "           \\n1. PUEDES PONER VALORES, EN BASE DECIMAL, SOLO DIGITOS DEL 0 AL 7  INCLUSO VALORES NEGATIVOS DE VARIOS DIGITOS (-0o77) \\\n",
    "           \\n2. PUEDES SUGERIR LOS VALORES EN SU FORMA OCTAL: NUMEROS ENTEROS CON DIGITOS DEL 0 AL 7, p.ej. 0o1, 0o7, -0o7, -0o77\\\n",
    "           \\n3. PUEDES PROPONER TUS VALORES DE FORMA HIBRIDA: p.ej. 70, 0o56  \\\n",
    "           \\n*OJO* IMPORTANTE: NO PUEDES PONER VALORES DE TIPO 'FLOAT'\" )\n",
    "if my_Base_symbol == 'B':\n",
    "    print(\"HAS ELEGIDO BASE BINARIA, PUEDES USAR VALORES EN BASE 10 Ó VALORES EN BASE BINARIA, \\\n",
    "           \\nEn este último caso SOLO PUEDES USAR DIGITOS (1 ó 0) y con el prefijo '0b', p.ej. 0b1110\")\n",
    "print(\"\\n\")\n"
   ]
  },
  {
   "cell_type": "markdown",
   "id": "f2f809bd",
   "metadata": {},
   "source": [
    "### Atención en la siguente parte de este código se te pediran 2 números para completar tu operación. \n",
    "### OJO: Si introduces números de tipo 'entero' puedes proponerlos de la siguente manera:\n",
    "- PARA BASE 10.  PUEDES introducir valores en base 10 positivos o negativos (por ejemplo: 3, 50, -512) o como Float(0.1024, -3.3)\n",
    "- PARA BASE OCTAL.  PUEDES introducir valores en base 10.\n",
    "- -> PUEDES introducir Números Octales (base 8) \"con su respectivo prefijo\" (por ejemplo: 0o3, 0o50, 0o512)\n",
    "- -> Si asi lo haces, NO PUEDES usar digitos mayores a 7(como: 8,9), o menores a -7(-8,-9), Tampoco de tipo Float.\n",
    "- PARA BASE BINARIA.  PUEDES introducir valores en base 10. \n",
    "- -> O introducirlos como Números Binarios (base 2) con su respectivo prefijo (por ejemplo: 0b11, 0b00110010, 0b001000000000)\n",
    "-  -> Solo puedes usar los digitos 1 o 0. -NO PUEDES usar digitos mayores a 1, negativos, o de tipo Float.\n",
    "- PARA BASE HEXADCIMAL. PUEDES introducir valores en base 10, \n",
    "- -> PUEDES usar digitos entre 0 y 9, no negativos . \n",
    "- -> O como Números Hexadecimales (base 16), con su respectivo prefijo (por ejemplo: 0x3, 0x32, 0x200).\n",
    "\n",
    "### OJO: Si introduces números de tipo 'punto flotante' tambien puedes hacerlo pero se te recomienda fuertemente NO USAR los prefijos antes mencionados o se arrojará un ERROR. \n",
    "### Los números de tipo 'punto flotante' se recomiendan para su uso en  operaciones en base 10."
   ]
  },
  {
   "cell_type": "code",
   "execution_count": 7,
   "id": "46ec1b4b",
   "metadata": {
    "scrolled": false
   },
   "outputs": [
    {
     "name": "stdout",
     "output_type": "stream",
     "text": [
      "|INGRESA DOS VALORES ,SEPARADOS POR UN ESPACIO. EN BASE OCTAL (P.ej. 0o17 0o15 'Solo digitos del 0 al 7');  O DOS VALORES EN BASE DECIMAL (EJ. 15 13), OJO NO SE PERMITEN NUMEROS TIPO FLOAT:'  0o17 0o5\n",
      "\n",
      "El valor de la variable OCTAL v1= 0o17 en Base 10 es: 15\n",
      "\n",
      "El valor de la variable OCTAL v2= 0o5 en Base 10 es: 5\n",
      "\n",
      "El resultado de la operación ( Suma ) , en base( Octal ), de los valores: 15 + 5 es:\n",
      "El Resultado en octal es 0o22\n",
      "El resultado en decimal es:  18\n"
     ]
    }
   ],
   "source": [
    "# Declaro variables globales tipo entero o float que usaré como referencia.\n",
    "vIntRef = 1\n",
    "#print (\"vIntRef es de tipo:\",type(vIntRef))\n",
    "vFloatRef = 0.1\n",
    "#print (\"vFloatRef es de tipo:\",type(vFloatRef))\n",
    "\n",
    "##### Inicia operación Base Decimal:\n",
    "if my_Base_symbol == 'D':\n",
    "    v1,v2 = input(\"Ingresa dos valores (enteros o float) positivos o negativos, separados por un espacio: \").split()\n",
    "    v1 = eval(v1)\n",
    "    print(\"\\nEl valor de la variable v1 es: \", v1)\n",
    "    v2 = eval(v2)\n",
    "    print(\"El valor de la variable v2 es: \", v2)\n",
    "    \n",
    "    # V1: Declaro un swich tipo 'bool' para permitir o negar la operación si V1 no es del tipo correcto de acuerdo a la base\n",
    "    blnv1AceptaOpDecimal = False    \n",
    "    if type(v1)==type(vIntRef) or type(v1)==type(vFloatRef):\n",
    "        print (\"\\nLa variable v1 ES de tipo:\", type(v1), \", por lo que se acepta\")\n",
    "        blnv1AceptaOpDecimal = True\n",
    "\n",
    "    # Establezco un valor limite maximo y minimo para V1 y uso el swich anterior \n",
    "    # para reafirmar o cancelar la ejecución de la operación    \n",
    "    if v1<=2147483647 and v1>=-2147483647:\n",
    "        print (\"La variable v1 SI entra en los rangos permitidos, por lo que se acepta\")\n",
    "        blnv1AceptaOpDecimal = True\n",
    "    else:\n",
    "        print (\"\\nLa variable v1 NO entra en los rangos permitidos, por lo que SE RECHAZA\")\n",
    "        blnv1AceptaOpDecimal = False\n",
    "\n",
    "    # V2: Declaro un swich tipo 'bool' para permitor o negar la operacion si V2 no es del tipo correcto de acuerdo a la base\n",
    "    blnv2AceptaOpDecimal = False \n",
    "    if type(v2)==type(vIntRef) or type(v2)==type(vFloatRef):\n",
    "        print (\"\\nLa variable v2 ES de tipo:\", type(v2), \", por lo que se acepta\")\n",
    "        blnv2AceptaOpDecimal = True\n",
    "        \n",
    "    # Establezco un valor limite maximo y minimo para V2 y uso el swich anterior \n",
    "    # para reafirmar o cancelar la ejecución de la operación \n",
    "    if v2<=2147483647 and v2>=-2147483647:\n",
    "        print (\"La variable v2 SI entra en los rangos permitidos y se acepta\")\n",
    "        blnv2AceptaOpDecimal = True\n",
    "    else:\n",
    "        print (\"\\nLa variable v2 NO entra en los rangos permitidos, por lo que SE RECHAZA\")\n",
    "        blnv2AceptaOpDecimal = False\n",
    "    \n",
    "    ## Si lo swiches anteriores son verdaderos se ejecuta la operación\n",
    "    ### si no, habra aparecido un mensaje donde se ubica el fallo.\n",
    "    if blnv1AceptaOpDecimal== True and blnv2AceptaOpDecimal== True:\n",
    "        print(\"\\nLos valores que has introducido SON ACEPTADOS para realizar la operación con base Decimal:\")\n",
    "        #*# Inicia zona de ejecucion de operación:\n",
    "        if my_operation_symbol == '+':\n",
    "            v0 = v1+v2\n",
    "            print(\"\\nEl resultado de la operación (\", my_operators_dictionary[my_operation_symbol], \n",
    "            \") , en base (\", my_bases_dictionary[my_Base_symbol],\"), de los valores:\", v1,my_operation_symbol,v2,\"es:\",v0, type(v0))\n",
    "\n",
    "        if my_operation_symbol == '-':\n",
    "            v0 = v1-v2\n",
    "            print(\"\\nEl resultado de la operación (\", my_operators_dictionary[my_operation_symbol], \n",
    "            \") , en base (\", my_bases_dictionary[my_Base_symbol],\"), de los valores:\", v1,my_operation_symbol,v2,\"es:\",v0, type(v0))\n",
    "\n",
    "        if my_operation_symbol == '*':\n",
    "            v0 = v1*v2\n",
    "            print(\"\\nEl resultado de la operación (\", my_operators_dictionary[my_operation_symbol], \n",
    "            \") , en base (\", my_bases_dictionary[my_Base_symbol],\"), de los valores:\", v1,my_operation_symbol,v2,\"es:\",v0, type(v0))\n",
    "\n",
    "        if my_operation_symbol == '/':\n",
    "            v0 = v1/v2\n",
    "            print(\"\\nEl resultado de la operación (\", my_operators_dictionary[my_operation_symbol], \n",
    "            \") , en base (\", my_bases_dictionary[my_Base_symbol],\"), de los valores:\", v1,my_operation_symbol,v2,\"es:\",v0, type(v0))\n",
    "\n",
    "        if my_operation_symbol == '**':\n",
    "            v0 = v1**v2\n",
    "            print(\"\\nEl resultado de la operación (\", my_operators_dictionary[my_operation_symbol], \n",
    "            \") , en base (\", my_bases_dictionary[my_Base_symbol],\"), de los valores:\", v1,my_operation_symbol,v2,\"es:\",v0, type(v0))\n",
    "        \n",
    "        #*# Termina zona de ejecucion de operación:\n",
    "    else:\n",
    "        print(\"\\nLos valores que has introducido NO SON ACEPTADOS para realizar la operación con base decimal, CORRÍGELOS.\")\n",
    "\n",
    "##### Termina operación Base Decimal\n",
    "\n",
    "\n",
    "#\n",
    "\n",
    "    \n",
    "##### Inicia operación Base Octal:\n",
    "if my_Base_symbol == 'O':\n",
    "    v1,v2 = input(\"|INGRESA DOS VALORES ,SEPARADOS POR UN ESPACIO. EN BASE OCTAL (P.ej. 0o17 0o15 'Solo digitos del 0 al 7');  O DOS VALORES EN BASE DECIMAL (EJ. 15 13), OJO NO SE PERMITEN NUMEROS TIPO FLOAT:' \").split()\n",
    "    print(\"\")\n",
    "    print(\"El valor de la variable OCTAL v1=\", v1, \"en Base 10 es:\", int(v1, 8))\n",
    "    v1 = eval(v1)\n",
    "    blnv1_valor_aceptado = True\n",
    "    \n",
    "    print(\"\")\n",
    "    print(\"El valor de la variable OCTAL v2=\", v2, \"en Base 10 es:\", int(v2, 8))\n",
    "    v2 = eval(v2)\n",
    "\n",
    "    blnv2_valor_aceptado = True\n",
    "    \n",
    "    ## Si lo swiches anteriores son verdaderos se ejecuta la operación\n",
    "    ### si no, aparecerá un mensaje donde se ubica el fallo.\n",
    "    if blnv1_valor_aceptado== True and blnv2_valor_aceptado== True:\n",
    "        try:\n",
    "            #*# Inicia zona de ejecucion de operación:\n",
    "            # Suma\n",
    "            if my_operation_symbol == '+':\n",
    "                print(\"\\nEl resultado de la operación (\", my_operators_dictionary[my_operation_symbol], \n",
    "                \") , en base(\", my_bases_dictionary[my_Base_symbol],\"), de los valores:\", v1, my_operation_symbol, v2,\"es:\")\n",
    "                v1 = str(v1)\n",
    "                v2 = str(v2)\n",
    "                sumaoctal = oct(int(v1, 8) + int(v2, 8))\n",
    "                print(\"El Resultado en octal es\", sumaoctal)\n",
    "                my_octal_number = eval(sumaoctal) \n",
    "                print(\"El resultado en decimal es: \", my_octal_number)\n",
    "            # Resta    \n",
    "            if my_operation_symbol == '-':\n",
    "                print(\"\\nEl resultado de la operación (\", my_operators_dictionary[my_operation_symbol], \n",
    "                \") , en base(\", my_bases_dictionary[my_Base_symbol],\"), de los valores:\", v1,my_operation_symbol,v2,\"es:\")\n",
    "                v1 = str(v1)\n",
    "                v2 = str(v2)\n",
    "                restaoctal = oct(int(v1, 8) - int(v2, 8))\n",
    "                print(\"El Resultado en octal es\", restaoctal)\n",
    "                my_octal_number = eval(restaoctal) \n",
    "                print(\"El resultado en decimal es: \", my_octal_number)\n",
    "            # Multiplicación    \n",
    "            if my_operation_symbol == '*':\n",
    "                print(\"\\nEl resultado de la operación (\", my_operators_dictionary[my_operation_symbol], \n",
    "                \") , en base(\", my_bases_dictionary[my_Base_symbol],\"), de los valores:\", v1,my_operation_symbol,v2,\"es:\")\n",
    "                v1 = str(v1)\n",
    "                v2 = str(v2)\n",
    "                multi_octal = oct(int(v1, 8) * int(v2, 8))\n",
    "                print(\"El Resultado en octal es\", multi_octal)\n",
    "                my_octal_number = eval(multi_octal) \n",
    "                print(\"El resultado en decimal es: \", my_octal_number)\n",
    "            # Division    \n",
    "            if my_operation_symbol == '/':\n",
    "                \n",
    "                originalOCTALv1 = v1 # Conservo al original octal\n",
    "                v1 = str(v1) # v1 esta como entero base 10 y lo cambio a cadena\n",
    "                \n",
    "                originalOCTALv2 = v2 # Conservo al original octal\n",
    "                v2 = str(v2) # v2 esta como entero base 10 y lo cambio a cadena\n",
    "                \n",
    "                v1 = int(v1, 8) # v1 esta como cadena (entero base 10) y lo hago entero base 8\n",
    "                v2 = int(v2, 8) # v2 esta como cadena (entero base 10) y lo hago entero base 8\n",
    "                \n",
    "                base8v0 = oct(int(v1 / v2)) # Hago operacion / en Base 8 y la asigno a v0\n",
    "                \n",
    "                # Imprimo resultado y base de operacion TODO en Base 10\n",
    "                print(\"\\nEl resultado de la operación (\", my_operators_dictionary[my_operation_symbol], \n",
    "                \") , en BASE OCTAL de los valores:\", originalOCTALv1, my_operation_symbol, originalOCTALv2,\"es:\", base8v0, \"tipo\", type(base8v0))\n",
    "                \n",
    "                # Ahora quiero regresar los operadores a base octal\n",
    "                v1 = str(v1)\n",
    "                v2 = str(v2)\n",
    "                v1 = int(v1, 10)\n",
    "                v2 = int(v2, 10)              \n",
    "                base10v0 = v1 / v2\n",
    "                \n",
    "                print(\"\\nEl resultado de la operación (\", my_operators_dictionary[my_operation_symbol], \n",
    "                \") , en base DECIMAL de los valores:\", v1, my_operation_symbol, v2,\"es:\", base10v0, \"tipo\", type(base10v0))\n",
    "                \n",
    "            # Potencia    \n",
    "            if my_operation_symbol == '**':\n",
    "                print(\"\\nEl resultado de la operación (\", my_operators_dictionary[my_operation_symbol], \n",
    "                \") , en base(\", my_bases_dictionary[my_Base_symbol],\"), de los valores:\", v1,my_operation_symbol,v2,\"es:\")\n",
    "                v1 = str(v1)\n",
    "                v2 = str(v2)\n",
    "                pot_octal = oct(int(v1, 8) ** int(v2, 8))\n",
    "                print(\"El Resultado en octal es\", pot_octal)\n",
    "                my_octal_number = eval(pot_octal) \n",
    "                print(\"El resultado en decimal es: \", my_octal_number)\n",
    "                \n",
    "        except ValueError:\n",
    "            print(\"Oops!  Hay un error, revisa cada digito de TU(S) NÚMERO(S), PARECEN INVALIDO(S). VUELVE A INTENTARLO...\")\n",
    "##### Termina operación Base Octal\n",
    "\n",
    "\n",
    "  ## \n",
    "\n",
    "\n",
    "##### Inicia operación Base Binaria:\n",
    "# Puedes usar: (0b1110 0b0111) ó (14 7), OJO->error con esto: (0b14 7) Digito invalido (4)\n",
    "if my_Base_symbol == 'B':\n",
    "    v1,v2 = input(\"|INGRESA DOS VALORES EN BASE BINARIA (ej. 0b111 0b001'Solo digitos 1ó0') O DOS VALORES EN BASE DECIMAL (EJ. 7 1) 'Separados por un espacio. OJO SI ES POTENCIA CUIDA EL TAMAÑO del SEGUNDO VALOR' \").split()\n",
    "    v1 = eval(v1)\n",
    "    blnv1_valor_aceptado = True\n",
    "    \n",
    "    print(\"\\nEl valor de la variable v1 es: \", v1)\n",
    "    print(\"\\t\\tEn binario es:\", bin(v1))\n",
    "    v2 = eval(v2)\n",
    "    blnv2_valor_aceptado = True\n",
    "    \n",
    "    print(\"El valor de la variable v2 es: \", v2)\n",
    "    print(\"\\t\\tEn binario es:\", bin(v2))\n",
    "\n",
    "    my_bin_numberv1 = eval(bin(v1))\n",
    "    my_bin_numberv2 = eval(bin(v2)) \n",
    "    \n",
    "    ## Si lo swiches anteriores son verdaderos se ejecuta la operación\n",
    "    ### si no, aparecerá un mensaje donde se ubica el fallo.\n",
    "    if blnv1_valor_aceptado== True and blnv2_valor_aceptado== True:\n",
    "        try:\n",
    "            #*# Inicia zona de ejecucion de operación:  \n",
    "            # Suma\n",
    "            if my_operation_symbol == '+':\n",
    "                v0 = (my_bin_numberv1) + (my_bin_numberv2)\n",
    "                print(\"\\nEl resultado de la operación (\", my_operators_dictionary[my_operation_symbol], \n",
    "                \") , en base 10 de los valores:\", v1, my_operation_symbol, v2,\"es:\", v0)\n",
    "                my_binary_number = bin(v0) \n",
    "                print(\"El resultado de la operación (\", my_operators_dictionary[my_operation_symbol], \") en base (\", my_bases_dictionary[my_Base_symbol],\") es:\" ,my_binary_number)\n",
    "            # Resta  \n",
    "            if my_operation_symbol == '-':\n",
    "                v0 = (my_bin_numberv1) - (my_bin_numberv2)\n",
    "                print(\"\\nEl resultado de la operación (\", my_operators_dictionary[my_operation_symbol], \n",
    "                \") , en base 10 de los valores:\", v1, my_operation_symbol, v2,\"es:\", v0)\n",
    "                my_binary_number = bin(v0) \n",
    "                print(\"El resultado de la operación (\", my_operators_dictionary[my_operation_symbol], \") en base (\", my_bases_dictionary[my_Base_symbol],\") es:\" ,my_binary_number)\n",
    "\n",
    "            # Multiplicación\n",
    "            if my_operation_symbol == '*':\n",
    "                v0 = (my_bin_numberv1) * (my_bin_numberv2)\n",
    "                print(\"\\nEl resultado de la operación (\", my_operators_dictionary[my_operation_symbol], \n",
    "                \") , en base 10 de los valores:\", v1, my_operation_symbol, v2,\"es:\", v0)\n",
    "                my_binary_number = bin(v0) \n",
    "                print(\"El resultado de la operación (\", my_operators_dictionary[my_operation_symbol], \") en base (\", my_bases_dictionary[my_Base_symbol],\") es:\" ,my_binary_number)\n",
    "\n",
    "                # Division\n",
    "            if my_operation_symbol == '/':\n",
    "                v0 = (my_bin_numberv1) / (my_bin_numberv2)\n",
    "                print(\"-----------------------------------------------------\")\n",
    "                print(\"OJO, LA DIVISIÓN SIEMPRE GENERA VALORES TIPO FLOAT...\")\n",
    "                print(\"\\nEl resultado de la operación (\", my_operators_dictionary[my_operation_symbol], \n",
    "                \") , en base DECIMAL de los valores:\", v1, my_operation_symbol, v2,\"es:\", v0)\n",
    "                print(\"El resultado es de Tipo:\",type(v0))\n",
    "                print(\"\")\n",
    "                print(\"\\t...AHORA, EL REULTADO SE CONVERTIRÁ A TIPO ENTERO, Y SE DARÁ SU valor a tipo BINARIO'\")\n",
    "                print(\"-----------------------------------------------------\")\n",
    "                my_int_number = int(v0) \n",
    "                print(\"El resultado en base 10 es:\",my_int_number,type(my_int_number))\n",
    "\n",
    "                my_binary_number = bin(my_int_number) \n",
    "                print(\"El resultado en base BINARIA de la División de:\", v1, my_operation_symbol, v2, \"es:\", my_binary_number)\n",
    "                \n",
    "            # Potencia    \n",
    "            if my_operation_symbol == '**':\n",
    "                v0 = (my_bin_numberv1) ** (my_bin_numberv2)\n",
    "                print(\"\\nEl resultado de la operación (\", my_operators_dictionary[my_operation_symbol], \n",
    "                \") , en base 10 de los valores:\", v1, my_operation_symbol, v2,\"es:\", v0)\n",
    "                my_binary_number = bin(v0) \n",
    "                print(\"El resultado de la operación (\", my_operators_dictionary[my_operation_symbol], \") en base (\", my_bases_dictionary[my_Base_symbol],\") es:\" ,my_binary_number)\n",
    "                \n",
    "        except ValueError:\n",
    "            print(\"Oops!  Hay un error, revisa cada digito de TU(S) NÚMERO(S), PARECEN INVALIDO(S). VUELVE A INTENTARLO...\")\n",
    "        \n",
    "        #*# Termina zona de ejecucion de operación:\n",
    "    else:\n",
    "        print(\"\\nLos valores que has introducido NO SON ACEPTADOS para realizar la operación con base decimal, CORRÍGELOS.\")\n",
    "\n",
    "##### Termina operación Base Binaria\n",
    "\n",
    "\n",
    "  ##\n",
    "\n",
    "\n",
    "##### Inicia operación Base Hexadecimal\n",
    "# Puedes usar: 0xA1 0xA 0x99\n",
    "if my_Base_symbol == 'H':\n",
    "    v1,v2 = input(\"|INGRESA DOS VALORES ,SEPARADOS POR UN ESPACIO. EN BASE HEXADECIMAL (P.ej. 0xA1 0xA 'Solo digitos 0a9');  O DOS VALORES EN BASE DECIMAL (EJ. 161 10), OJO NO SE PERMITEN NUMEROS TIPO FLOAT:' \").split()\n",
    "    \n",
    "    v1 = eval(v1)\n",
    "    blnv1_valor_aceptado = True\n",
    "    print(\"\\nEl valor de la variable v1 es: \", v1)\n",
    "    print(\"\\t\\tEn hexadecimal es:\", hex(v1))\n",
    "    \n",
    "    v2 = eval(v2)\n",
    "    blnv2_valor_aceptado = True\n",
    "    print(\"El valor de la variable v2 es: \", v2)\n",
    "    print(\"\\t\\tEn hexadecimal es:\", hex(v2))\n",
    "\n",
    "    my_hex_numberv1 = eval(hex(v1))\n",
    "    print(\"my_hex_numberv1\", my_hex_numberv1)\n",
    "    my_hex_numberv2 = eval(hex(v2))\n",
    "    \n",
    "    ## Si lo swiches anteriores son verdaderos se ejecuta la operación\n",
    "    ### si no, aparecerá un mensaje donde se ubica el fallo.\n",
    "    if blnv1_valor_aceptado== True and blnv2_valor_aceptado== True:\n",
    "        try:\n",
    "            #*# Inicia zona de ejecucion de operación:  \n",
    "\n",
    "            # Suma\n",
    "            if my_operation_symbol == '+':\n",
    "                v0 = (my_hex_numberv1) + (my_hex_numberv2)\n",
    "                my_int_number = int(v0) \n",
    "                print(\"\\nEl resultado de la operación (\", my_operators_dictionary[my_operation_symbol], \n",
    "                \") , en base DECIMAL de los valores:\", v1, my_operation_symbol, v2,\"es:\", my_int_number)\n",
    "                my_hex_number = hex(v0) \n",
    "                print(\"El resultado de la operación (\", my_operators_dictionary[my_operation_symbol], \") en BASE (\", my_bases_dictionary[my_Base_symbol],\") es:\" ,my_hex_number)\n",
    "\n",
    "            # Resta  \n",
    "            if my_operation_symbol == '-':\n",
    "                v0 = (my_hex_numberv1) - (my_hex_numberv2)\n",
    "                print(\"\\nEl resultado de la operación (\", my_operators_dictionary[my_operation_symbol], \n",
    "                \") , en base DECIMAL de los valores:\", v1, my_operation_symbol, v2,\"es:\", v0)\n",
    "                my_hex_number = hex(v0) \n",
    "                print(\"El resultado de la operación (\", my_operators_dictionary[my_operation_symbol], \") en BASE (\", my_bases_dictionary[my_Base_symbol],\") es:\" ,my_hex_number)\n",
    "\n",
    "            # Multiplicación\n",
    "            if my_operation_symbol == '*':\n",
    "                v0 = (my_hex_numberv1) * (my_hex_numberv2)\n",
    "                print(\"\\nEl resultado de la operación (\", my_operators_dictionary[my_operation_symbol], \n",
    "                \") , en base DECIMAL de los valores:\", v1, my_operation_symbol, v2,\"es:\", v0)\n",
    "                my_hex_number = hex(v0)\n",
    "                print(\"El resultado de la operación (\", my_operators_dictionary[my_operation_symbol], \") en BASE (\", my_bases_dictionary[my_Base_symbol],\") es:\" ,my_hex_number)\n",
    "\n",
    "                # Division\n",
    "            if my_operation_symbol == '/':\n",
    "                v0 = (my_hex_numberv1) / (my_hex_numberv2)\n",
    "                print(\"-----------------------------------------------------\")\n",
    "                print(\"OJO, LA DIVISIÓN SIEMPRE GENERA VALORES TIPO FLOAT...\")\n",
    "                print(\"\\nEl resultado de la operación (\", my_operators_dictionary[my_operation_symbol], \n",
    "                \") , en base DECIMAL de los valores:\", v1, my_operation_symbol, v2,\"es:\", v0)\n",
    "                print(\"El resultado es de Tipo:\",type(v0),\"\\n\")\n",
    "                print(\"AHORA, EL REULTADO LO CONVERTIRÉ A TIPO ENTERO, Y DARÉ SU VALOR '**APROXIMADO**' EN ESE TIPO'\")\n",
    "                print(\"-----------------------------------------------------\")\n",
    "                # my_hex_number = hex(v0)\n",
    "                my_int_number = int(v0) \n",
    "                print(\"El resultado '**APROXIMADO**' a valor en base decimal de la División de:\", v1, my_operation_symbol, v2, \"ES:\",my_int_number,type(my_int_number))\n",
    "                my_hex_number = hex(my_int_number) \n",
    "                print(\"El resultado 'EN BASE HEXADECIMAL' de la División de:\", v1, my_operation_symbol, v2, \"ES:\", my_hex_number,type(my_hex_number))\n",
    "\n",
    "            # Potencia    \n",
    "            if my_operation_symbol == '**':\n",
    "                v0 = (my_hex_numberv1) ** (my_hex_numberv2)\n",
    "                print(\"\\nEl resultado de la operación (\", my_operators_dictionary[my_operation_symbol], \n",
    "                \") , en base DECIMAL de los valores:\", v1, my_operation_symbol, v2,\"es:\", v0)\n",
    "                my_hex_number = hex(v0)\n",
    "                print(\"El resultado de la operación (\", my_operators_dictionary[my_operation_symbol], \") en base (\", my_bases_dictionary[my_Base_symbol],\") es:\" ,my_hex_number)\n",
    "        except ValueError:\n",
    "            print(\"Oops!  Hay un error, revisa cada digito de TU(S) NÚMERO(S), PARECEN INVALIDO(S). VUELVE A INTENTARLO...\")\n",
    "\n",
    "    else:\n",
    "        print(\"\\nLos valores que has introducido NO SON ACEPTADOS para realizar la operación con base hexadecimal, CORRÍGELOS.\")\n",
    "\n",
    "##### Termina operación Base Hexadecimal "
   ]
  },
  {
   "cell_type": "markdown",
   "id": "49c187db",
   "metadata": {},
   "source": [
    "## Las siguentes lineas de este programa son: \n",
    "### Fragmentos de código que se usaron para entender y hacer las operaciones según una base dada\n",
    "### No forman parte de programa principal (Líneas 1, 2, 3, 4, 5 y 6 de este archivo de Jupyter Notebook)."
   ]
  },
  {
   "cell_type": "markdown",
   "id": "1bfd1034",
   "metadata": {},
   "source": [
    "### Base OCTAL: "
   ]
  },
  {
   "cell_type": "code",
   "execution_count": 6,
   "id": "5a278f82",
   "metadata": {
    "scrolled": true
   },
   "outputs": [
    {
     "name": "stdout",
     "output_type": "stream",
     "text": [
      "Ingresa dos valores enteros precedidos por '0o'(p.e: 0o17), separados por un espacio: 0o17 0o5\n",
      "0o17 <class 'str'>\n",
      "0o17 <class 'str'>\n",
      "15\n",
      "5\n",
      "El resultado en base OCTAL es:  0o3\n",
      "El resultado en base 10 es: 3\n",
      "Su tipo es: <class 'int'>\n"
     ]
    }
   ],
   "source": [
    "# Base Octal (DIVISIÓN)\n",
    "\n",
    "b1,b2 = input(\"Ingresa dos valores enteros precedidos por '0o'(p.e: 0o17), separados por un espacio: \").split()         \n",
    "print(b1, type(b1))\n",
    "print(b1, type(b2))\n",
    " \n",
    "# Calculating octal value using function\n",
    "print(int(b1, 8))\n",
    "print(int(b2, 8))\n",
    "\n",
    "b1 = int(b1, 8)\n",
    "b2 = int(b2, 8)\n",
    "\n",
    "v0 = int(b1 / b2)\n",
    "\n",
    "my_octal_number = oct(v0) \n",
    "print(\"El resultado en base OCTAL es: \", my_octal_number)\n",
    "\n",
    "print(\"El resultado en base 10 es:\",v0)\n",
    "print(\"Su tipo es:\",type(v0))"
   ]
  },
  {
   "cell_type": "code",
   "execution_count": 8,
   "id": "14974326",
   "metadata": {},
   "outputs": [
    {
     "name": "stdout",
     "output_type": "stream",
     "text": [
      "El resultado de 'my_int_number' en base 10 es:  0o1\n",
      "El resultado de 'my_oct_number' en base 8 es:  0o14\n"
     ]
    }
   ],
   "source": [
    "# De apoyo\n",
    "my_int_number = 0o63 / 0o4\n",
    "print(\"El resultado de 'my_int_number' en base 10 es: \", my_octal_number)\n",
    "my_oct_number = oct(int(0o63 / 0o4))\n",
    "print(\"El resultado de 'my_oct_number' en base 8 es: \", my_oct_number)"
   ]
  },
  {
   "cell_type": "markdown",
   "id": "19f31c86",
   "metadata": {},
   "source": [
    "### Base BINARIA."
   ]
  },
  {
   "cell_type": "code",
   "execution_count": 9,
   "id": "a8babe92",
   "metadata": {
    "scrolled": false
   },
   "outputs": [
    {
     "name": "stdout",
     "output_type": "stream",
     "text": [
      "Ingresa dos valores binarios, separados por un espacio: 0b1110 0b0111\n",
      "\n",
      "El valor de la variable v1 es:  14\n",
      "\t\tEn binario es: 0b1110\n",
      "El valor de la variable v2 es:  7\n",
      "\t\tEn binario es: 0b111\n",
      "-----------------------------------------------------\n",
      "OJO, LA DIVISIÓN SIEMPRE GENERA VALORES TIPO FLOAT...\n",
      "El resultado de la División de v1 / v1 es: 2.0\n",
      "El resultado es de Tipo: <class 'float'>\n",
      "...ENTONCES EL REULTADO SE CONVERTIRÁ A TIPO ENTERO, \n",
      "Y SE DARA EL RESULTADO 'APROXIMADO' en tipo 'BINARIO'\n",
      "-----------------------------------------------------\n",
      "El resultado convertido a numero entero es: 2 <class 'int'>\n",
      "El resultado de la División en tipo BINARIO' de v1 / v1 es: 0b10\n"
     ]
    }
   ],
   "source": [
    "#Base Binaria (División)\n",
    "# puedes usar: (0b1110 0b0111) ó (14 7) error: (0b14 7) Digito invalido\n",
    "b1,b2 = input(\"Ingresa dos valores binarios, separados por un espacio: \").split() \n",
    "b1 = eval(b1)\n",
    "print(\"\\nEl valor de la variable v1 es: \", b1)\n",
    "print(\"\\t\\tEn binario es:\", bin(b1))\n",
    "b2 = eval(b2)\n",
    "print(\"El valor de la variable v2 es: \", b2)\n",
    "print(\"\\t\\tEn binario es:\", bin(b2))\n",
    " \n",
    "my_bin_numberb1 = eval(bin(b1)) \n",
    "my_bin_numberb2 = eval(bin(b2)) \n",
    "# Suma\n",
    "v0 = (my_bin_numberb1) / (my_bin_numberb2)\n",
    "print(\"-----------------------------------------------------\")\n",
    "print(\"OJO, LA DIVISIÓN SIEMPRE GENERA VALORES TIPO FLOAT...\")\n",
    "print(\"El resultado de la División de v1 / v1 es:\",v0,)\n",
    "print(\"El resultado es de Tipo:\",type(v0))\n",
    "print(\"...ENTONCES EL REULTADO SE CONVERTIRÁ A TIPO ENTERO, \\nY SE DARA EL RESULTADO 'APROXIMADO' en tipo 'BINARIO'\")\n",
    "print(\"-----------------------------------------------------\")\n",
    "my_int_number = int(v0) \n",
    "print(\"El resultado convertido a numero entero es:\",my_int_number,type(my_int_number))\n",
    "\n",
    "my_binary_number = bin(my_int_number) \n",
    "print(\"El resultado de la División en tipo BINARIO' de v1 / v1 es:\", my_binary_number)\n"
   ]
  },
  {
   "cell_type": "code",
   "execution_count": 10,
   "id": "8bfb2f13",
   "metadata": {},
   "outputs": [
    {
     "name": "stdout",
     "output_type": "stream",
     "text": [
      "5.0 Tipo <class 'float'>\n"
     ]
    }
   ],
   "source": [
    "# COMPRUEBO QUE CUALQUIER DIVISION GENERA UN VALOR DE TIPO FLOAT\n",
    "print(10/2, \"Tipo\", type(10/2))\n"
   ]
  },
  {
   "cell_type": "code",
   "execution_count": 11,
   "id": "aa9faef0",
   "metadata": {},
   "outputs": [
    {
     "name": "stdout",
     "output_type": "stream",
     "text": [
      "<class 'float'>\n"
     ]
    },
    {
     "ename": "TypeError",
     "evalue": "'float' object cannot be interpreted as an integer",
     "output_type": "error",
     "traceback": [
      "\u001b[1;31m---------------------------------------------------------------------------\u001b[0m",
      "\u001b[1;31mTypeError\u001b[0m                                 Traceback (most recent call last)",
      "Input \u001b[1;32mIn [11]\u001b[0m, in \u001b[0;36m<cell line: 5>\u001b[1;34m()\u001b[0m\n\u001b[0;32m      3\u001b[0m i \u001b[38;5;241m=\u001b[39m \u001b[38;5;241m10\u001b[39m\u001b[38;5;241m/\u001b[39m\u001b[38;5;241m2\u001b[39m\n\u001b[0;32m      4\u001b[0m \u001b[38;5;28mprint\u001b[39m(\u001b[38;5;28mtype\u001b[39m(i))\n\u001b[1;32m----> 5\u001b[0m \u001b[38;5;28mprint\u001b[39m(\u001b[38;5;28;43mbin\u001b[39;49m\u001b[43m(\u001b[49m\u001b[43mi\u001b[49m\u001b[43m)\u001b[49m)\n",
      "\u001b[1;31mTypeError\u001b[0m: 'float' object cannot be interpreted as an integer"
     ]
    }
   ],
   "source": [
    "# AQUI DESCUBRIMOS QUE la división MANDA COMO RESULTADO un valor tipo FLOAT como resultado (i)\n",
    "# Por lo tanto al TRANFORMARLO A BINARIO GENERARÁ UN ERROR\n",
    "i = 10/2\n",
    "print(type(i))\n",
    "print(bin(i))"
   ]
  },
  {
   "cell_type": "markdown",
   "id": "6ca58266",
   "metadata": {},
   "source": [
    "### BASE HEXADECIMAL."
   ]
  },
  {
   "cell_type": "code",
   "execution_count": 12,
   "id": "1c83afce",
   "metadata": {
    "scrolled": true
   },
   "outputs": [
    {
     "name": "stdout",
     "output_type": "stream",
     "text": [
      "|INGRESA DOS VALORES EN HEXADECIMAL (p.e: 0xA1 0x1) O DOS VALORES EN BASE DECIMAL SOLO DIGITOS DE -9 a 9 (EJ. 9 1) 'Separados por un espacio:'0xA1 0x1\n",
      "0xA1 <class 'str'>\n",
      "0x1 <class 'str'>\n",
      "Entero base 10: h1= 161\n",
      "Entero base 10: h2= 1\n"
     ]
    },
    {
     "ename": "TypeError",
     "evalue": "'float' object cannot be interpreted as an integer",
     "output_type": "error",
     "traceback": [
      "\u001b[1;31m---------------------------------------------------------------------------\u001b[0m",
      "\u001b[1;31mTypeError\u001b[0m                                 Traceback (most recent call last)",
      "Input \u001b[1;32mIn [12]\u001b[0m, in \u001b[0;36m<cell line: 13>\u001b[1;34m()\u001b[0m\n\u001b[0;32m     10\u001b[0m \u001b[38;5;28mprint\u001b[39m(\u001b[38;5;124m\"\u001b[39m\u001b[38;5;124mEntero base 10:\u001b[39m\u001b[38;5;124m\"\u001b[39m,\u001b[38;5;124m\"\u001b[39m\u001b[38;5;124mh1=\u001b[39m\u001b[38;5;124m\"\u001b[39m,\u001b[38;5;28mint\u001b[39m(h1, \u001b[38;5;241m16\u001b[39m))\n\u001b[0;32m     11\u001b[0m \u001b[38;5;28mprint\u001b[39m(\u001b[38;5;124m\"\u001b[39m\u001b[38;5;124mEntero base 10:\u001b[39m\u001b[38;5;124m\"\u001b[39m,\u001b[38;5;124m\"\u001b[39m\u001b[38;5;124mh2=\u001b[39m\u001b[38;5;124m\"\u001b[39m,\u001b[38;5;28mint\u001b[39m(h2, \u001b[38;5;241m16\u001b[39m))\n\u001b[1;32m---> 13\u001b[0m v0 \u001b[38;5;241m=\u001b[39m \u001b[38;5;28;43mhex\u001b[39;49m\u001b[43m(\u001b[49m\u001b[38;5;28;43mint\u001b[39;49m\u001b[43m(\u001b[49m\u001b[43mh1\u001b[49m\u001b[43m,\u001b[49m\u001b[43m \u001b[49m\u001b[38;5;241;43m16\u001b[39;49m\u001b[43m)\u001b[49m\u001b[43m \u001b[49m\u001b[38;5;241;43m/\u001b[39;49m\u001b[43m \u001b[49m\u001b[38;5;28;43mint\u001b[39;49m\u001b[43m(\u001b[49m\u001b[43mh2\u001b[49m\u001b[43m,\u001b[49m\u001b[43m \u001b[49m\u001b[38;5;241;43m16\u001b[39;49m\u001b[43m)\u001b[49m\u001b[43m)\u001b[49m\n\u001b[0;32m     14\u001b[0m \u001b[38;5;28mprint\u001b[39m(\u001b[38;5;124m\"\u001b[39m\u001b[38;5;124mEl resultado en hexdecimal es:\u001b[39m\u001b[38;5;124m\"\u001b[39m,v0)\n\u001b[0;32m     15\u001b[0m \u001b[38;5;28mprint\u001b[39m(\u001b[38;5;124m\"\u001b[39m\u001b[38;5;124mSu tipo es:\u001b[39m\u001b[38;5;124m\"\u001b[39m,\u001b[38;5;28mtype\u001b[39m(v0))\n",
      "\u001b[1;31mTypeError\u001b[0m: 'float' object cannot be interpreted as an integer"
     ]
    }
   ],
   "source": [
    "# Hexadecimal       # Esto da un resultados ERRONEO:\n",
    "# ESTE ES UN INTENTO por resolver la operacion division en hexadecimal pero genera errores\n",
    "# JUSTO POR LA MISMA RAZON QUE EN EL CASO ANTERIOR.\n",
    "# my_hex_number = 0xA1 0xA 0x99\n",
    "h1,h2 = input(\"|INGRESA DOS VALORES EN HEXADECIMAL (p.e: 0xA1 0x1) O DOS VALORES EN BASE DECIMAL SOLO DIGITOS DE -9 a 9 (EJ. 9 1) 'Separados por un espacio:'\").split()         \n",
    "print(h1, type(h1))\n",
    "print(h2, type(h2))\n",
    "\n",
    "# Calculating octal value using function\n",
    "print(\"Entero base 10:\",\"h1=\",int(h1, 16))\n",
    "print(\"Entero base 10:\",\"h2=\",int(h2, 16))\n",
    "\n",
    "v0 = hex(int(h1, 16) / int(h2, 16))\n",
    "print(\"El resultado en hexdecimal es:\",v0)\n",
    "print(\"Su tipo es:\",type(v0))\n",
    "\n",
    "my_hexadecimal_number = eval(v0) \n",
    "print(\"El valor de 'my_hexadecimal_number': \", my_hexadecimal_number)"
   ]
  },
  {
   "cell_type": "markdown",
   "id": "4aee82c4",
   "metadata": {},
   "source": [
    "### UNA FORMA EXITOSA DE RESOLVER LA DIVISION EN HEXADECIMAL, es:\n",
    "- Convierte a hexadecimal los valores introducidos\n",
    "- Haz la division\n",
    "- Convierte el resultados a entero\n",
    "- imprime ambos resultados."
   ]
  },
  {
   "cell_type": "code",
   "execution_count": 3,
   "id": "3d1df3f8",
   "metadata": {},
   "outputs": [
    {
     "name": "stdout",
     "output_type": "stream",
     "text": [
      "Ingresa dos valores hexadecimales, separados por un espacio:(0xA 0x1) o Doa valore enteros 0xA 0x1\n",
      "\n",
      "El valor de la variable v1 es:  10\n",
      "\t\tEn hexadecimal es: 0xa\n",
      "El valor de la variable v2 es:  1\n",
      "\t\tEn hexadecimal es: 0x1\n",
      "-----------------------------------------------------\n",
      "OJO, LA DIVISIÓN SIEMPRE GENERA VALORES TIPO FLOAT...\n",
      "El resultado de la Suma de h1 + h2 es: 11\n",
      "El resultado es de Tipo: <class 'int'>\n",
      "...ENTONCES EL REULTADO SE CONVERTIRÁ A TIPO ENTERO, \n",
      "Y SE DARA EL RESULTADO 'APROXIMADO' en tipo 'Hexadecimal'\n",
      "-----------------------------------------------------\n",
      "<class 'int'>\n",
      "El resultado APROXIMADO convertido a numero entero es: 11 <class 'int'>\n",
      "El resultado de la Suma 'en tipo HEXADECIMAL' de h1 + h2 es: 0xb\n"
     ]
    }
   ],
   "source": [
    "#hexadecimal\n",
    "# Se intenta una forma analoga a la binaria para resolver la operacion de division wur resulta ser exitosa.\n",
    "# puedes usar: (0xA 0x1) ó (10 1) error: (0b0.1 0b0.5) o (0.1 0.4) Digitos invalidos\n",
    "h1,h2 = input(\"Ingresa dos valores hexadecimales, separados por un espacio:(0xA 0x1) o Doa valore enteros \").split() \n",
    "h1 = eval(h1)\n",
    "print(\"\\nEl valor de la variable v1 es: \", h1)\n",
    "print(\"\\t\\tEn hexadecimal es:\", hex(h1))\n",
    "h2 = eval(h2)\n",
    "print(\"El valor de la variable v2 es: \", h2)\n",
    "print(\"\\t\\tEn hexadecimal es:\", hex(h2))\n",
    " \n",
    "my_hex_numberh1 = eval(hex(h1)) \n",
    "my_hex_numberh2 = eval(hex(h2)) \n",
    "# Suma\n",
    "v0 = (my_hex_numberh1) + (my_hex_numberh2)\n",
    "print(\"-----------------------------------------------------\")\n",
    "print(\"OJO, LA DIVISIÓN SIEMPRE GENERA VALORES TIPO FLOAT...\")\n",
    "print(\"El resultado de la Suma de h1 + h2 es:\",v0,)\n",
    "print(\"El resultado es de Tipo:\",type(v0))\n",
    "print(\"...ENTONCES EL REULTADO SE CONVERTIRÁ A TIPO ENTERO, \\nY SE DARA EL RESULTADO 'APROXIMADO' en tipo 'Hexadecimal'\")\n",
    "print(\"-----------------------------------------------------\")\n",
    "print(type(v0))\n",
    "my_int_number = int(v0) \n",
    "print(\"El resultado APROXIMADO convertido a numero entero es:\",my_int_number,type(my_int_number))\n",
    "\n",
    "my_hex_number = hex(my_int_number) \n",
    "print(\"El resultado de la Suma 'en tipo HEXADECIMAL' de h1 + h2 es:\", my_hex_number)"
   ]
  },
  {
   "cell_type": "code",
   "execution_count": 14,
   "id": "6445d148",
   "metadata": {},
   "outputs": [
    {
     "name": "stdout",
     "output_type": "stream",
     "text": [
      "16\n",
      "0x10\n"
     ]
    }
   ],
   "source": [
    "# Solo apoyo conceptual.\n",
    "print(int(161/10))\n",
    "print(hex(int(161/10))) "
   ]
  },
  {
   "cell_type": "code",
   "execution_count": 15,
   "id": "e6f6d039",
   "metadata": {},
   "outputs": [
    {
     "data": {
      "text/plain": [
       "1.0"
      ]
     },
     "execution_count": 15,
     "metadata": {},
     "output_type": "execute_result"
    }
   ],
   "source": [
    "0xA/0xA"
   ]
  },
  {
   "cell_type": "code",
   "execution_count": 16,
   "id": "ba5b50bc",
   "metadata": {
    "scrolled": true
   },
   "outputs": [
    {
     "name": "stdout",
     "output_type": "stream",
     "text": [
      "hex_number= 0xa <class 'str'>\n"
     ]
    }
   ],
   "source": [
    "# Comprobando tipos.\n",
    "hex_number = hex(10)\n",
    "print(\"hex_number=\",hex_number,type(hex_number))\n"
   ]
  },
  {
   "cell_type": "code",
   "execution_count": 17,
   "id": "cb108732",
   "metadata": {},
   "outputs": [
    {
     "name": "stdout",
     "output_type": "stream",
     "text": [
      "Octal 512\n",
      "Hexadecimal 512\n",
      "Binaria 512\n"
     ]
    }
   ],
   "source": [
    "# Comprobando algunao numero en bases diferentes\n",
    "print(\"Octal\", 0o1000)\n",
    "print(\"Hexadecimal\", 0x200)\n",
    "print(\"Binaria\", 0b001000000000)\n"
   ]
  },
  {
   "cell_type": "markdown",
   "id": "f708904d",
   "metadata": {},
   "source": [
    "## Programa terminado."
   ]
  }
 ],
 "metadata": {
  "kernelspec": {
   "display_name": "Python 3 (ipykernel)",
   "language": "python",
   "name": "python3"
  },
  "language_info": {
   "codemirror_mode": {
    "name": "ipython",
    "version": 3
   },
   "file_extension": ".py",
   "mimetype": "text/x-python",
   "name": "python",
   "nbconvert_exporter": "python",
   "pygments_lexer": "ipython3",
   "version": "3.9.12"
  }
 },
 "nbformat": 4,
 "nbformat_minor": 5
}
