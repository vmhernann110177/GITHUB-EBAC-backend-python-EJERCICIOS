{
 "cells": [
  {
   "cell_type": "markdown",
   "id": "cbd48dfb",
   "metadata": {},
   "source": [
    "## Ejercicio final del Módulo 2 \"Fundamentos\". \n",
    "### INSTRUCCIONES: En este ejercicio te pediré tres valores\n",
    "- El primero será un número entero\n",
    "- El segundo un valor de punto flotante (\"entero con decimales\")\n",
    "- El tercero será una cadena (un pequeño texto o una palabra).\n",
    "## Por atención: Te aparecerá un \"input\"\n",
    "- Cada valor lo separarás por una coma \n",
    "- No olvides que el último valor lo pondrás entre \"comillas\"  \n",
    "### ¡Adelante! :) "
   ]
  },
  {
   "cell_type": "code",
   "execution_count": 1,
   "id": "09df1341",
   "metadata": {},
   "outputs": [
    {
     "name": "stdout",
     "output_type": "stream",
     "text": [
      "vv1=  1 , Type: <class 'int'>\n",
      "vv2= 1.1 , Type: <class 'float'>\n",
      "vv3=\" Hola \", Type: <class 'str'>\n"
     ]
    }
   ],
   "source": [
    "#   AQUI NO HAGAS NADA,\n",
    "##  SOLO CORRE ESTA LINEA SIN CAMBIAR NADA\n",
    "vv1 = 1\n",
    "print(\"vv1= \",vv1, \", Type:\", type(vv1))\n",
    "vv2 = 1.1\n",
    "print(\"vv2=\",vv2, \", Type:\", type(vv2))\n",
    "vv3 = \"Hola\"\n",
    "print(\"vv3=\\\"\", vv3, \"\\\", Type:\", type(vv3))"
   ]
  },
  {
   "cell_type": "code",
   "execution_count": 2,
   "id": "4ebba6dc",
   "metadata": {},
   "outputs": [
    {
     "name": "stdout",
     "output_type": "stream",
     "text": [
      "Ingresa tres valores separados por una coma Entero, Float., 'string': 1 , 3.1416 , \"HoLA MUNDO SOY VIC\"\n",
      "El valor de la variable v1 es:  1\n",
      "\tMUY BIEN! El tipo de DATO del valor 1 es ENTERO\n",
      "El valor de la variable v2 es:  3.1416\n",
      "\tMUY BIEN! El tipo de DATO del valor 2 es FLOAT\n",
      "El valor de la variable v3 es:  HoLA MUNDO SOY VIC\n",
      "\tMUY BIEN! El tipo de DATO del valor 3 es STRING\n"
     ]
    }
   ],
   "source": [
    "## AHORA SI INGRESA tres valores SEPARADOS POR UNA COMA (,)\n",
    "## El Valor 1 que sea un entero, \n",
    "## El valor 2 que sea un float,\n",
    "## El valor 3 que sea una cadena (string) no olvides ponerla entre comillas.\n",
    "\n",
    "v1,v2,v3 = input(\"Ingresa tres valores separados por una coma Entero, Float., 'string': \").split(\",\")\n",
    "\n",
    "v1 = eval(v1)\n",
    "print(\"El valor de la variable v1 es: \", v1)\n",
    "if type(v1) == type(vv1):\n",
    "    print(\"\\tMUY BIEN! El tipo de DATO del valor 1 es ENTERO\")\n",
    "elif type(v1) != type(vv1):\n",
    "    print(\"\\tNOOO! El tipo de DATO del valor 1 NO es ENTERO\")\n",
    "v2 = eval(v2)\n",
    "print(\"El valor de la variable v2 es: \", v2)\n",
    "if type(v2) == type(vv2):\n",
    "    print(\"\\tMUY BIEN! El tipo de DATO del valor 2 es FLOAT\")\n",
    "elif type(v2) != type(vv2):\n",
    "    print(\"\\tNOOO! El tipo de DATO del valor 2 NO es FLOAT\")\n",
    "\n",
    "v3 = eval(v3)\n",
    "print(\"El valor de la variable v3 es: \", v3)\n",
    "if type(v3) == type(vv3):\n",
    "    print(\"\\tMUY BIEN! El tipo de DATO del valor 3 es STRING\")\n",
    "elif type(v3) != type(vv3):\n",
    "    print(\"\\tNOOO! El tipo de DATO del valor 3 NO es STRING\")"
   ]
  },
  {
   "cell_type": "markdown",
   "id": "64397763",
   "metadata": {},
   "source": [
    "### Vuelve a intentarlo pero comete errores \"a proposito\" con el tipo de dato en, alguno, o todos lo valores.\n",
    "### mira lo que sucede y comparalos con tu repuesta anterior."
   ]
  },
  {
   "cell_type": "code",
   "execution_count": 3,
   "id": "8e705886",
   "metadata": {},
   "outputs": [
    {
     "name": "stdout",
     "output_type": "stream",
     "text": [
      "Ingresa tres valores separados por una coma Entero, Float., 'string': 1.1 , 36 , \"HOLA MUNDO SOY VIC\"\n",
      "El valor de la variable v1 es:  1.1\n",
      "\tMUY MAL! El tipo de DATO del valor 1 NO es ENTERO\n",
      "El valor de la variable v2 es:  36\n",
      "\tMUY MAL! El tipo de DATO del valor 2 NO es FLOAT\n",
      "El valor de la variable v3 es:  HOLA MUNDO SOY VIC\n",
      "\tMUY BIEN! El tipo de DATO del valor 3 es STRING\n"
     ]
    }
   ],
   "source": [
    "## AHORA HAGAMOSLO ERRONEAMENTE Ingresa tres valores separados por una coma\n",
    "## El Valor 1 que sea o no sea uno de tipo entero, \n",
    "## El valor 2 que sea o no sea uno de tipo float,\n",
    "## El valor 3 que sea o no sea uno de tipo una cadena (strin).\n",
    "v1,v2,v3 = input(\"Ingresa tres valores separados por una coma Entero, Float., 'string': \").split(\",\")\n",
    "\n",
    "v1 = eval(v1)\n",
    "print(\"El valor de la variable v1 es: \", v1)\n",
    "if type(v1) == type(vv1):\n",
    "    print(\"\\tMUY BIEN! El tipo de DATO del valor 1 es ENTERO\")\n",
    "elif type(v1) != type(vv1):\n",
    "    print(\"\\tMUY MAL! El tipo de DATO del valor 1 NO es ENTERO\")\n",
    "v2 = eval(v2)\n",
    "print(\"El valor de la variable v2 es: \", v2)\n",
    "if type(v2) == type(vv2):\n",
    "    print(\"\\tMUY BIEN! El tipo de DATO del valor 2 es FLOAT\")\n",
    "elif type(v2) != type(vv2):\n",
    "    print(\"\\tMUY MAL! El tipo de DATO del valor 2 NO es FLOAT\")\n",
    "    \n",
    " ## OJO, SI COMENTAS la siguente LINEA TODO FUNCIONA BIEN, Y ESO ES POR QUE EL 'input()' TOMA este VALOR COMO CADENA\n",
    "v3 = eval(v3)\n",
    "print(\"El valor de la variable v3 es: \", v3)\n",
    "if type(v3) == type(vv3):\n",
    "    print(\"\\tMUY BIEN! El tipo de DATO del valor 3 es STRING\")\n",
    "elif type(v3) != type(vv3):\n",
    "    print(\"\\tMUY MAL! El tipo de DATO del valor 3 NO es STRING\")"
   ]
  },
  {
   "cell_type": "markdown",
   "id": "81e46ce7",
   "metadata": {},
   "source": [
    "### Listo :D, si gustas intentarlo de nuevo regresa a la line anterior y hazlo.\n",
    "### Si quieres que todo salga bien copia y pega en el input esto:  "
   ]
  },
  {
   "cell_type": "code",
   "execution_count": 4,
   "id": "8a6f40e4",
   "metadata": {},
   "outputs": [],
   "source": [
    "# Copia y pega esto: >>     1 , 3.1416 , \"HOLA MUNDO SOY VIC\" "
   ]
  }
 ],
 "metadata": {
  "kernelspec": {
   "display_name": "Python 3 (ipykernel)",
   "language": "python",
   "name": "python3"
  },
  "language_info": {
   "codemirror_mode": {
    "name": "ipython",
    "version": 3
   },
   "file_extension": ".py",
   "mimetype": "text/x-python",
   "name": "python",
   "nbconvert_exporter": "python",
   "pygments_lexer": "ipython3",
   "version": "3.9.12"
  }
 },
 "nbformat": 4,
 "nbformat_minor": 5
}
