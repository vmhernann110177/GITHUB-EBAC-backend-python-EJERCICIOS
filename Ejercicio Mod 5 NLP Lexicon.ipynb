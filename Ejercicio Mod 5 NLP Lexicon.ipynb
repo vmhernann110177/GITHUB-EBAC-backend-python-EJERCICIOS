{
 "cells": [
  {
   "cell_type": "markdown",
   "id": "b0f26321",
   "metadata": {},
   "source": [
    "<h2>Ejercicio Mod 5</h2>\n",
    " <ol>\n",
    "    <li> <FONT SIZE=4 COLOR=\"blue\"> El objetivo de esta actividad </FONT> es que escribas un programa en un Jupyter Notebook y que crees un analizador de sentimientos básico para un texto. ; poner <FONT SIZE=4 COLOR=\"red\"> python38 </FONT>\n",
    "    </li>\n",
    "    <li> <FONT SIZE=4 COLOR=\"blue\"> Archivos a desarrollar. </FONT>\n",
    "        <ol>\n",
    "            <li> Un Word con los siguientes puntos:\n",
    "                <ol>\n",
    "                    <li> Link a tu repositorio de Github con el Jupyter Notebook.\n",
    "                    </li>\n",
    "                    <li> Copia y pega tu código en el archivo de Word.\n",
    "                    </li>\n",
    "                </ol>\n",
    "            </li>\n",
    "        </ol>\n",
    "    </li>\n",
    "    <li> <FONT SIZE=4 COLOR=\"blue\"> Entonces. </FONT>\n",
    "        <ol>\n",
    "            <li> Copia y pega el código del recuadro en tu Jupyter Notebook para realizar el ejercicio. Recuerda modificar este programa, de forma que sea más efectivo. Pon ejemplos para negativo, positivo y neutro.\n",
    "            </li>\n",
    "            <li> \n",
    "                Añade este Jupyter Notebook a tu repositorio de Github con el nombre \"Ejercicio – Strings / Cadenas\".\n",
    "            </li>\n",
    "            <li> \n",
    "                En un archivo de Word pon el link a tu repositorio y copia y pega el código que creaste en tu Jupyter Notebook.\n",
    "            </li>\n",
    "            <li> \n",
    "                Al finalizar, responde la evaluación que encuentras en la plataforma.\n",
    "            </li>\n",
    "        </ol>\n",
    "    </li>\n",
    " <ol> "
   ]
  },
  {
   "cell_type": "code",
   "execution_count": 20,
   "id": "0cb37721",
   "metadata": {},
   "outputs": [
    {
     "name": "stdout",
     "output_type": "stream",
     "text": [
      "\n",
      "Antes quiero ver, en terminos de caracteres, \n",
      "Qué es lo que se lee:\n",
      "\n",
      "El número de caracteres que leo es = 79\n",
      "Todos los caracteres de la cadena son = \" Este es un producto muy bueno, excelente, maravilloso, pero incompleto y básico \"\n",
      "El Caracter final es = | o |\n",
      "\n",
      "\n",
      "Esto es un \u001b[1mAnalizador\u001b[31m MUY SENCILLO\u001b[30m de sentimiento \u001b[34m(Basado en un corto lexicón).\u001b[0m\n",
      "\n",
      "my_string:\n",
      "Este es un producto muy bueno, excelente, maravilloso, pero incompleto y básico\n",
      "\n",
      "score positivo, resultado:3\n",
      "score negativo, resultado:-1\n",
      "score neutro, resultado:2\n",
      "\n",
      "En general se puede decir que el sentimiento de esta oracion es: Positivo '+' \n",
      "\n"
     ]
    }
   ],
   "source": [
    "# Antes quiero ver, en terminos de caracteres que es lo que se lee:\n",
    "\n",
    "pln_string = \"Este es un producto muy bueno, excelente, maravilloso, pero incompleto y básico\"\n",
    "\n",
    "print(\"\\nAntes quiero ver, en terminos de caracteres, \\nQué es lo que se lee:\")\n",
    "print(\"\\nEl número de caracteres que leo es =\", len(pln_string)) # esta leyendo 80 caracteres\n",
    "print(\"Todos los caracteres de la cadena son = \\\"\", pln_string[:],\"\\\"\")\n",
    "print(\"El Caracter final es = |\", pln_string[-1],\"|\")\n",
    "\n",
    "## ¿Cómo imprimir solo las palabras de esta oración?\n",
    "\n",
    "# Copia y pega el código:\n",
    "my_string = \"\"\"\n",
    "Este es un producto muy bueno, excelente, maravilloso, pero incompleto y básico\n",
    "\"\"\"\n",
    "neutral_words = [\"producto\", \"básico\"]\n",
    "positive_words = [\"bueno\", \"excelente\", \"maravilloso\"]\n",
    "negative_words = [\"defectuoso\", \"malo\", \"horrible\", \"incompleto\"]\n",
    "\n",
    "positive_score = 0\n",
    "negative_score = 0\n",
    "neutral_score = 0\n",
    "Result =\"\"\n",
    "\n",
    "for positive_word in positive_words:\n",
    "    positive_score = positive_score + my_string.count(positive_word)\n",
    "\n",
    "for negative_word in negative_words:\n",
    "    negative_score = negative_score - my_string.count(negative_word)\n",
    "\n",
    "for neutral_word in neutral_words:\n",
    "    neutral_score = neutral_score + my_string.count(neutral_word)\n",
    "\n",
    "print( \"\\n\\nEsto es un \\033[1m\" + \"Analizador\\u001b[31m MUY SENCILLO\\u001b[30m de sentimiento \\u001b[34m(Basado en un corto lexicón).\" + \"\\033[0m\")    \n",
    "print(\"\\nmy_string:{}\".format(my_string))\n",
    "print(\"score positivo, resultado:{}\".format(positive_score))\n",
    "print(\"score negativo, resultado:{}\".format(negative_score))\n",
    "print(\"score neutro, resultado:{}\".format(neutral_score))\n",
    "\n",
    "if (positive_score>negative_score and positive_score>neutral_score):\n",
    "    Result = \"Positivo '+'\"\n",
    "    \n",
    "if (negative_score>positive_score and negative_score>neutral_score):\n",
    "    Result = \"Negativo '-'\"\n",
    "    \n",
    "if (neutral_score>positive_score and neutral_score>negative_score):\n",
    "    Result = \"Neutro '0'\"\n",
    "    \n",
    "print(\"\\nEn general se puede decir que el sentimiento de esta oracion es: {}\".format(Result),\"\\n\")"
   ]
  },
  {
   "cell_type": "code",
   "execution_count": 2,
   "id": "eba1123a",
   "metadata": {},
   "outputs": [
    {
     "name": "stdout",
     "output_type": "stream",
     "text": [
      "Programa terminado\n"
     ]
    }
   ],
   "source": [
    "print(\"Programa terminado\")"
   ]
  },
  {
   "cell_type": "code",
   "execution_count": null,
   "id": "3f58ea3f",
   "metadata": {},
   "outputs": [],
   "source": []
  }
 ],
 "metadata": {
  "kernelspec": {
   "display_name": "Python 3 (ipykernel)",
   "language": "python",
   "name": "python3"
  },
  "language_info": {
   "codemirror_mode": {
    "name": "ipython",
    "version": 3
   },
   "file_extension": ".py",
   "mimetype": "text/x-python",
   "name": "python",
   "nbconvert_exporter": "python",
   "pygments_lexer": "ipython3",
   "version": "3.9.12"
  }
 },
 "nbformat": 4,
 "nbformat_minor": 5
}
